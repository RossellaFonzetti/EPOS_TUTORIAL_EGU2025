{
 "cells": [
  {
   "cell_type": "markdown",
   "id": "7a3c91bb-c9a4-42a4-b36e-39d72d909772",
   "metadata": {},
   "source": [
    "# ***AMATRICE-VISSO-NORCIA 2016-2017*** seismic sequence (Central Appennines)\n",
    "\n",
    "#### The aim is to ***create a seismic catalog using new artificial intelligence methods***, particularly ***PhaseNet*** (Zhu et al., 2019) and the ***Seisbench*** platform, which contains training datasets and other deep learning models for picking."
   ]
  },
  {
   "cell_type": "markdown",
   "id": "cd28b4d2-0fbd-43ee-a88d-4dbbc5080648",
   "metadata": {},
   "source": [
    "### Seismic Catalog Creation: The 2016 Central Italy Seismic Sequence\n",
    "## 1. Introduction\n",
    "The 2016 Central Italy seismic sequence is one of the most significant recent seismic crises in Europe. It began on **August 24, 2016**, with a magnitude Mw 6.0 earthquake near Amatrice, followed by several major events in the following months (e.g., Mw 5.9 on Oct 26, Mw 6.5 on Oct 30).\n",
    "\n",
    "![Seismicity Map - Central Italy 2016](https://upload.wikimedia.org/wikipedia/commons/a/a4/30-10-2016_central_italy_ShakeMap.jpg)\n",
    "\n",
    "*Figure: Shake map of the 2016/10/30 Mw 6.5 Central Italy sequence (source: INGV via Wikipedia*)\n",
    "\n",
    "\n",
    "List of the major earthquakes of the 2016–2017 Central Italy Sequence\n",
    "\n",
    "| Date             | Local Time (CET/CEST) | Magnitude (Mw) | Depth (km) | Epicenter Municipality          | Latitude | Longitude |\n",
    "|------------------|------------------------|----------------|------------|--------------------------------|----------|-----------|\n",
    "| 24 Aug 2016      | 03:36:32               | 6.0            | 8          | Accumoli                       | 42.70 N  | 13.23 E   |\n",
    "| 24 Aug 2016      | 04:33:28               | 5.3            | 8          | Norcia                         | 42.79 N  | 13.15 E   |\n",
    "| 26 Oct 2016      | 19:10:36               | 5.4            | 9          | Castelsantangelo sul Nera      | 42.88 N  | 13.13 E   |\n",
    "| 26 Oct 2016      | 21:18:05               | 5.9            | 8          | Ussita                         | 42.91 N  | 13.13 E   |\n",
    "| 30 Oct 2016      | 07:40:17               | 6.5            | 9          | Norcia                         | 42.83 N  | 13.11 E   |\n",
    "| 18 Jan 2017      | 10:25:40               | 5.1            | 10         | Montereale                    | 42.55 N  | 13.28 E   |\n",
    "| 18 Jan 2017      | 11:14:09               | 5.5            | 10         | Capitignano                   | 42.53 N  | 13.28 E   |\n",
    "| 18 Jan 2017      | 11:25:23               | 5.4            | 9          | Pizzoli                       | 42.50 N  | 13.28 E   |\n",
    "| 18 Jan 2017      | 14:33:36               | 5.0            | 10         | Cagnano Amiterno              | 42.47 N  | 13.28 E   |\n",
    "\n",
    "These events significantly affected Lazio, Marche, Umbria, and Abruzzo, causing extensive damage and casualties. The Mw 6.5 earthquake on October 30, 2016, was the strongest in Italy since 1980 (and it will be the case study of this tutorial).\n",
    "\n",
    "\n",
    "This notebook explains **how to create a seismic catalog**, outlining each step from waveform acquisition to event publication."
   ]
  },
  {
   "cell_type": "markdown",
   "id": "d3922a6c-e300-4271-9124-eb990ee936d5",
   "metadata": {},
   "source": [
    "## 2. Data Collection\n",
    "To begin, you need:\n",
    "- **Waveform data** (e.g., in MiniSEED format)\n",
    "- **Station metadata** (StationXML or RESP files)\n",
    "- Optional: **preliminary catalog data** (for reference)\n",
    "\n",
    "In Italy, waveform data can be accessed via the [INGV Opendata Portal](http://terremoti.ingv.it/) or the [European Integrated Data Archive (EIDA)](https://www.orfeus-eu.org/data/eida/).\n"
   ]
  },
  {
   "cell_type": "markdown",
   "id": "8c0214bd-0049-467c-8fd2-dec321de8396",
   "metadata": {},
   "source": [
    "## 3. Waveform Preprocessing\n",
    "Before phase picking:\n",
    "- Detrend and demean the signal\n",
    "- Apply band-pass filters (e.g., 1–10 Hz)\n",
    "- Remove the instrument response\n",
    "\n",
    "```python\n",
    "# Example using ObsPy\n",
    "from obspy import read\n",
    "st = read(\"data/IV.SORR..HHZ.D.2016.237\")\n",
    "st.detrend(\"demean\")\n",
    "st.filter(\"bandpass\", freqmin=1.0, freqmax=10.0)\n",
    "st.remove_response(output=\"VEL\")\n",
    "st.plot()\n",
    "```"
   ]
  },
  {
   "cell_type": "markdown",
   "id": "7cce8472-eaa1-4827-bf1d-d669a54916d2",
   "metadata": {},
   "source": [
    "## 4. Phase Picking\n",
    "This step involves identifying P and S wave arrival times.\n",
    "\n",
    "- **Manual picking**: Using tools like SeisGram2K or ObsPy GUI\n",
    "- **Automatic picking**: Using ML models (e.g., **PhaseNet**, **EQTransformer**)\n",
    "\n",
    "Output: Picks in a format like `.csv`, `.phs`, or QuakeML.\n",
    "\n",
    "In this tutorial, we'll explore the **\"automatic picking\"** using the **new machine-learning algorithms** available such as:\n",
    "\n",
    "### PhaseNet\n",
    "- A deep learning model that predicts P and S arrival times on 3-component waveforms.\n",
    "- Input: preprocessed waveforms\n",
    "- Output: pick times with probabilities\n",
    "- Reference: https://github.com/wayneweiqiang/PhaseNet\n",
    "\n",
    "### SeisBench\n",
    "- A unified benchmark framework for seismic deep learning models.\n",
    "- Provides pre-trained models like PhaseNet, EQTransformer, etc.\n",
    "- Facilitates reproducibility and comparison.\n",
    "- Reference: https://github.com/seisbench/seisbench\n",
    "\n",
    "### GaMMA\n",
    "- A fast, grid-free association and relocation tool.\n",
    "- Associates picks into events using a probabilistic framework.\n",
    "- Efficient for real-time and offline catalog generation.\n",
    "- Reference: https://github.com/AI4EPS/GaMMA\n"
   ]
  },
  {
   "cell_type": "markdown",
   "id": "3485a592-14be-48e7-88da-da83143c725b",
   "metadata": {},
   "source": [
    "## 5. Hypocenter Location\n",
    "With picks, a velocity model, and station locations, estimate the origin time and hypocenter.\n",
    "\n",
    "Tools:\n",
    "- **NonLinLoc** (probabilistic)\n",
    "- **Hypo71** (linear, 1D)\n",
    "- **HypoDD** (Double-Difference locations)\n",
    "- **VELEST** (joint inversion of events and 1D model)\n",
    "\n",
    "The Hypocenter location is fundamental for different analysis such as: seismic hazard map, seismic tomography, attenuation studies, seismic sources modellation, fault structures analysis etc..."
   ]
  },
  {
   "cell_type": "markdown",
   "id": "46350570-d209-4e34-bcac-ce3c12b74a08",
   "metadata": {},
   "source": [
    "## 6. Magnitude Computation\n",
    "Estimate the event magnitude:\n",
    "- **ML (local magnitude)**: Based on peak amplitude\n",
    "- **Mw (moment magnitude)**: Based on spectral analysis or full waveform inversion\n",
    "\n",
    "```python\n",
    "# Simplified ML estimation (peak-to-peak amplitude)\n",
    "amplitude = st[0].max() - st[0].min()\n",
    "ml = log10(amplitude) + correction_factor\n",
    "```"
   ]
  },
  {
   "cell_type": "markdown",
   "id": "462cebbd-cb21-4e01-a2f5-edbdb1086fee",
   "metadata": {},
   "source": [
    "## 7. Catalog Compilation\n",
    "Assemble a table with the following fields:\n",
    "- Origin time (UTC)\n",
    "- Latitude / Longitude / Depth\n",
    "- Magnitude (ML, Mw, etc.)\n",
    "- Number of phases used\n",
    "- RMS error\n",
    "- Event ID\n",
    "\n",
    "Output formats:\n",
    "- CSV / Excel\n",
    "- QuakeML / XML\n",
    "- Database (PostgreSQL, SQLite)"
   ]
  },
  {
   "cell_type": "markdown",
   "id": "1628db38-8985-4382-9ca5-32f4b86f5f7e",
   "metadata": {},
   "source": [
    "## 8. Quality Control\n",
    "- Check for duplicates\n",
    "- Remove false triggers\n",
    "- Validate against official catalogs (e.g., INGV, USGS)\n",
    "\n",
    "Visual checks:\n",
    "- Epicenter distribution map\n",
    "- Magnitude vs time (timeline)\n",
    "\n",
    "```python\n",
    "# Example visualization\n",
    "import matplotlib.pyplot as plt\n",
    "plt.scatter(event_times, magnitudes)\n",
    "plt.xlabel(\"Date\")\n",
    "plt.ylabel(\"Magnitude\")\n",
    "plt.title(\"Magnitude vs Time - 2016 Central Italy\")\n",
    "plt.show()\n",
    "```"
   ]
  },
  {
   "cell_type": "markdown",
   "id": "eb6c5bc2-3304-4a77-8ec2-1d125ee89a73",
   "metadata": {},
   "source": [
    "## 9. Summary\n",
    "The construction of a seismic catalog involves:\n",
    "1. Data acquisition\n",
    "2. Waveform preprocessing\n",
    "3. Phase picking\n",
    "4. Event location\n",
    "5. Magnitude estimation\n",
    "6. Catalog creation\n",
    "7. Quality assurance\n",
    "\n",
    "Applied to the 2016 Central Italy sequence, this workflow supports detailed seismicity analysis, hazard studies, and tectonic interpretation.\n",
    "\n"
   ]
  },
  {
   "cell_type": "markdown",
   "id": "55276301-8c95-4b97-834a-1f72f55d76bb",
   "metadata": {},
   "source": [
    "## 10. References\n",
    "- INGV: http://terremoti.ingv.it/\n",
    "- EIDA: https://www.orfeus-eu.org/data/eida/\n",
    "- ObsPy: https://docs.obspy.org/\n",
    "- Seisbench: https://github.com/seisbench/seisbench\n",
    "- PhaseNet: https://github.com/wayneweiqiang/PhaseNet\n",
    "- GaMMA: https://github.com/AI4EPS/GaMMA\n",
    "- NonLinLoc: https://alomax.free.fr/nlloc/\n",
    "- HypoDD: https://www.ldeo.columbia.edu/~felixw/hypoDD.html\n",
    "- Hypoellipse: https://pubs.usgs.gov/publication/ofr79431"
   ]
  },
  {
   "cell_type": "markdown",
   "id": "9e1c570a-5dd0-4f31-a3fd-fc832b4767c3",
   "metadata": {},
   "source": [
    "## 11. Install the useful packages to run the tutorial\n",
    "\n",
    "In order to run the tutorial, please install the following packages:\n",
    "```python\n",
    "# install seisbench on your laptop\n",
    "pip install seisbench  pyproj seaborn\n",
    "#install GaMMA to provide P- and S- waves association and inititial locations\n",
    "pip install git+https://github.com/AI4EPS/GaMMA.git\n",
    "```"
   ]
  }
 ],
 "metadata": {
  "kernelspec": {
   "display_name": "Python 3 (ipykernel)",
   "language": "python",
   "name": "python3"
  },
  "language_info": {
   "codemirror_mode": {
    "name": "ipython",
    "version": 3
   },
   "file_extension": ".py",
   "mimetype": "text/x-python",
   "name": "python",
   "nbconvert_exporter": "python",
   "pygments_lexer": "ipython3",
   "version": "3.11.11"
  }
 },
 "nbformat": 4,
 "nbformat_minor": 5
}
